{
 "cells": [
  {
   "cell_type": "code",
   "execution_count": 82,
   "metadata": {},
   "outputs": [],
   "source": [
    "import pandas as pd "
   ]
  },
  {
   "cell_type": "code",
   "execution_count": 83,
   "metadata": {},
   "outputs": [],
   "source": [
    "order_report = pd.read_csv(\"../csv/Order Report.csv\")\n",
    "sku_master = pd.read_csv(\"../csv/SKU Master.csv\")\n",
    "pincode_mapping = pd.read_csv(\"../csv/pincodes.csv\")\n",
    "courier_invoice = pd.read_csv(\"../csv/Invoice.csv\")\n",
    "courier_company_rates = pd.read_csv(\"../csv/Courier Company - Rates.csv\")\n"
   ]
  },
  {
   "cell_type": "code",
   "execution_count": 84,
   "metadata": {},
   "outputs": [],
   "source": [
    "order_report = order_report.drop(columns=[\"Unnamed: 3\",\"Unnamed: 4\"])\n",
    "sku_master = sku_master.drop(columns=[\"Unnamed: 2\", \"Unnamed: 3\", \"Unnamed: 4\"])\n",
    "pincode_mapping = pincode_mapping.drop(columns=[\"Unnamed: 3\", \"Unnamed: 4\"])"
   ]
  },
  {
   "cell_type": "code",
   "execution_count": 85,
   "metadata": {},
   "outputs": [],
   "source": [
    "merged_data = pd.merge(order_report, sku_master, on=\"SKU\")\n",
    "merged_data = merged_data.rename(columns={\"ExternOrderNo\":\"Order ID\"})"
   ]
  },
  {
   "cell_type": "code",
   "execution_count": 86,
   "metadata": {},
   "outputs": [],
   "source": [
    "abc_courier = pincode_mapping.drop_duplicates(subset=[\"Customer Pincode\"])\n",
    "courier_abc = courier_invoice[['Order ID', 'Customer Pincode','Type of Shipment']]\n",
    "pincodes = courier_abc.merge(abc_courier, on=\"Customer Pincode\")"
   ]
  },
  {
   "cell_type": "code",
   "execution_count": 88,
   "metadata": {},
   "outputs": [],
   "source": [
    "merged2 = merged_data.merge(pincodes, on='Order ID')\n",
    "merged2['Weights (Kgs)'] = merged2['Weight (g)'] / 1000"
   ]
  },
  {
   "cell_type": "code",
   "execution_count": 89,
   "metadata": {},
   "outputs": [],
   "source": [
    "def weight_slab(weight):\n",
    "    i = round(weight % 1, 1)\n",
    "    if i == 0.0:\n",
    "        return weight\n",
    "    elif i > 0.5:\n",
    "        return int(weight) + 1\n",
    "    else: \n",
    "        return int(weight) + 0.5"
   ]
  },
  {
   "cell_type": "code",
   "execution_count": 98,
   "metadata": {},
   "outputs": [],
   "source": [
    "merged2['Weight Slab (KG)'] = merged2['Weights (Kgs)'].apply(weight_slab)"
   ]
  },
  {
   "cell_type": "code",
   "execution_count": 99,
   "metadata": {},
   "outputs": [],
   "source": [
    "courier_invoice['Weight Slab Charged by Courier Company']=(courier_invoice['Charged Weight']).apply(weight_slab)"
   ]
  },
  {
   "cell_type": "code",
   "execution_count": 100,
   "metadata": {},
   "outputs": [],
   "source": [
    "courier_invoice = courier_invoice.rename(columns={'Zone': 'Delivery Zone Charged by Courier Company'})\n",
    "merged2 = merged2.rename(columns={'Zone': 'Delivery Zone As Per ABC'})\n",
    "merged2 = merged2.rename(columns={'Weight Slab (KG)': 'Weight Slab As Per ABC'})"
   ]
  },
  {
   "cell_type": "code",
   "execution_count": 101,
   "metadata": {},
   "outputs": [],
   "source": [
    "merged2 = merged2.rename(columns={'Weight Slab (KG)': 'Weight Slab As Per ABC'})"
   ]
  },
  {
   "cell_type": "code",
   "execution_count": 102,
   "metadata": {},
   "outputs": [
    {
     "data": {
      "text/html": [
       "<div>\n",
       "<style scoped>\n",
       "    .dataframe tbody tr th:only-of-type {\n",
       "        vertical-align: middle;\n",
       "    }\n",
       "\n",
       "    .dataframe tbody tr th {\n",
       "        vertical-align: top;\n",
       "    }\n",
       "\n",
       "    .dataframe thead th {\n",
       "        text-align: right;\n",
       "    }\n",
       "</style>\n",
       "<table border=\"1\" class=\"dataframe\">\n",
       "  <thead>\n",
       "    <tr style=\"text-align: right;\">\n",
       "      <th></th>\n",
       "      <th>Order ID</th>\n",
       "      <th>SKU</th>\n",
       "      <th>Order Qty</th>\n",
       "      <th>Weight (g)</th>\n",
       "      <th>Customer Pincode</th>\n",
       "      <th>Type of Shipment</th>\n",
       "      <th>Warehouse Pincode</th>\n",
       "      <th>Delivery Zone As Per ABC</th>\n",
       "      <th>Weights (Kgs)</th>\n",
       "      <th>Weight (Kgs)</th>\n",
       "      <th>Weight Slab As Per ABC</th>\n",
       "    </tr>\n",
       "  </thead>\n",
       "  <tbody>\n",
       "    <tr>\n",
       "      <th>0</th>\n",
       "      <td>2001827036</td>\n",
       "      <td>8904223818706</td>\n",
       "      <td>1.0</td>\n",
       "      <td>127</td>\n",
       "      <td>173213</td>\n",
       "      <td>Forward charges</td>\n",
       "      <td>121003</td>\n",
       "      <td>e</td>\n",
       "      <td>0.127</td>\n",
       "      <td>0.5</td>\n",
       "      <td>0.5</td>\n",
       "    </tr>\n",
       "    <tr>\n",
       "      <th>1</th>\n",
       "      <td>2001827036</td>\n",
       "      <td>8904223819093</td>\n",
       "      <td>1.0</td>\n",
       "      <td>150</td>\n",
       "      <td>173213</td>\n",
       "      <td>Forward charges</td>\n",
       "      <td>121003</td>\n",
       "      <td>e</td>\n",
       "      <td>0.150</td>\n",
       "      <td>0.5</td>\n",
       "      <td>0.5</td>\n",
       "    </tr>\n",
       "    <tr>\n",
       "      <th>2</th>\n",
       "      <td>2001827036</td>\n",
       "      <td>8904223819109</td>\n",
       "      <td>1.0</td>\n",
       "      <td>100</td>\n",
       "      <td>173213</td>\n",
       "      <td>Forward charges</td>\n",
       "      <td>121003</td>\n",
       "      <td>e</td>\n",
       "      <td>0.100</td>\n",
       "      <td>0.5</td>\n",
       "      <td>0.5</td>\n",
       "    </tr>\n",
       "    <tr>\n",
       "      <th>3</th>\n",
       "      <td>2001827036</td>\n",
       "      <td>8904223818430</td>\n",
       "      <td>1.0</td>\n",
       "      <td>165</td>\n",
       "      <td>173213</td>\n",
       "      <td>Forward charges</td>\n",
       "      <td>121003</td>\n",
       "      <td>e</td>\n",
       "      <td>0.165</td>\n",
       "      <td>0.5</td>\n",
       "      <td>0.5</td>\n",
       "    </tr>\n",
       "    <tr>\n",
       "      <th>4</th>\n",
       "      <td>2001827036</td>\n",
       "      <td>8904223819277</td>\n",
       "      <td>1.0</td>\n",
       "      <td>350</td>\n",
       "      <td>173213</td>\n",
       "      <td>Forward charges</td>\n",
       "      <td>121003</td>\n",
       "      <td>e</td>\n",
       "      <td>0.350</td>\n",
       "      <td>0.5</td>\n",
       "      <td>0.5</td>\n",
       "    </tr>\n",
       "    <tr>\n",
       "      <th>...</th>\n",
       "      <td>...</td>\n",
       "      <td>...</td>\n",
       "      <td>...</td>\n",
       "      <td>...</td>\n",
       "      <td>...</td>\n",
       "      <td>...</td>\n",
       "      <td>...</td>\n",
       "      <td>...</td>\n",
       "      <td>...</td>\n",
       "      <td>...</td>\n",
       "      <td>...</td>\n",
       "    </tr>\n",
       "    <tr>\n",
       "      <th>396</th>\n",
       "      <td>2001806251</td>\n",
       "      <td>8904223819161</td>\n",
       "      <td>1.0</td>\n",
       "      <td>115</td>\n",
       "      <td>743263</td>\n",
       "      <td>Forward charges</td>\n",
       "      <td>121003</td>\n",
       "      <td>d</td>\n",
       "      <td>0.115</td>\n",
       "      <td>0.5</td>\n",
       "      <td>0.5</td>\n",
       "    </tr>\n",
       "    <tr>\n",
       "      <th>397</th>\n",
       "      <td>2001806251</td>\n",
       "      <td>8904223819260</td>\n",
       "      <td>1.0</td>\n",
       "      <td>130</td>\n",
       "      <td>743263</td>\n",
       "      <td>Forward charges</td>\n",
       "      <td>121003</td>\n",
       "      <td>d</td>\n",
       "      <td>0.130</td>\n",
       "      <td>0.5</td>\n",
       "      <td>0.5</td>\n",
       "    </tr>\n",
       "    <tr>\n",
       "      <th>398</th>\n",
       "      <td>2001806233</td>\n",
       "      <td>8904223819161</td>\n",
       "      <td>1.0</td>\n",
       "      <td>115</td>\n",
       "      <td>263139</td>\n",
       "      <td>Forward charges</td>\n",
       "      <td>121003</td>\n",
       "      <td>b</td>\n",
       "      <td>0.115</td>\n",
       "      <td>0.5</td>\n",
       "      <td>0.5</td>\n",
       "    </tr>\n",
       "    <tr>\n",
       "      <th>399</th>\n",
       "      <td>2001806233</td>\n",
       "      <td>8904223819260</td>\n",
       "      <td>1.0</td>\n",
       "      <td>130</td>\n",
       "      <td>263139</td>\n",
       "      <td>Forward charges</td>\n",
       "      <td>121003</td>\n",
       "      <td>b</td>\n",
       "      <td>0.130</td>\n",
       "      <td>0.5</td>\n",
       "      <td>0.5</td>\n",
       "    </tr>\n",
       "    <tr>\n",
       "      <th>400</th>\n",
       "      <td>2001807328</td>\n",
       "      <td>8904223818997</td>\n",
       "      <td>1.0</td>\n",
       "      <td>490</td>\n",
       "      <td>335502</td>\n",
       "      <td>Forward charges</td>\n",
       "      <td>121003</td>\n",
       "      <td>b</td>\n",
       "      <td>0.490</td>\n",
       "      <td>0.5</td>\n",
       "      <td>0.5</td>\n",
       "    </tr>\n",
       "  </tbody>\n",
       "</table>\n",
       "<p>401 rows × 11 columns</p>\n",
       "</div>"
      ],
      "text/plain": [
       "       Order ID            SKU  Order Qty  Weight (g)  Customer Pincode  \\\n",
       "0    2001827036  8904223818706        1.0         127            173213   \n",
       "1    2001827036  8904223819093        1.0         150            173213   \n",
       "2    2001827036  8904223819109        1.0         100            173213   \n",
       "3    2001827036  8904223818430        1.0         165            173213   \n",
       "4    2001827036  8904223819277        1.0         350            173213   \n",
       "..          ...            ...        ...         ...               ...   \n",
       "396  2001806251  8904223819161        1.0         115            743263   \n",
       "397  2001806251  8904223819260        1.0         130            743263   \n",
       "398  2001806233  8904223819161        1.0         115            263139   \n",
       "399  2001806233  8904223819260        1.0         130            263139   \n",
       "400  2001807328  8904223818997        1.0         490            335502   \n",
       "\n",
       "    Type of Shipment  Warehouse Pincode Delivery Zone As Per ABC  \\\n",
       "0    Forward charges             121003                        e   \n",
       "1    Forward charges             121003                        e   \n",
       "2    Forward charges             121003                        e   \n",
       "3    Forward charges             121003                        e   \n",
       "4    Forward charges             121003                        e   \n",
       "..               ...                ...                      ...   \n",
       "396  Forward charges             121003                        d   \n",
       "397  Forward charges             121003                        d   \n",
       "398  Forward charges             121003                        b   \n",
       "399  Forward charges             121003                        b   \n",
       "400  Forward charges             121003                        b   \n",
       "\n",
       "     Weights (Kgs)  Weight (Kgs)  Weight Slab As Per ABC  \n",
       "0            0.127           0.5                     0.5  \n",
       "1            0.150           0.5                     0.5  \n",
       "2            0.100           0.5                     0.5  \n",
       "3            0.165           0.5                     0.5  \n",
       "4            0.350           0.5                     0.5  \n",
       "..             ...           ...                     ...  \n",
       "396          0.115           0.5                     0.5  \n",
       "397          0.130           0.5                     0.5  \n",
       "398          0.115           0.5                     0.5  \n",
       "399          0.130           0.5                     0.5  \n",
       "400          0.490           0.5                     0.5  \n",
       "\n",
       "[401 rows x 11 columns]"
      ]
     },
     "execution_count": 102,
     "metadata": {},
     "output_type": "execute_result"
    }
   ],
   "source": [
    "merged2"
   ]
  },
  {
   "cell_type": "code",
   "execution_count": 103,
   "metadata": {},
   "outputs": [],
   "source": [
    "total_expected_charge = []\n",
    "for _, row in merged2.iterrows():\n",
    "    fwd_category = 'fwd_' + row['Delivery Zone As Per ABC']\n",
    "    fwd_fixed = courier_company_rates.at[0, fwd_category + '_fixed']\n",
    "    fwd_additional = courier_company_rates.at[0, fwd_category + '_additional']\n",
    "    rto_category = 'rto_' + row['Delivery Zone As Per ABC']\n",
    "    rto_fixed = courier_company_rates.at[0, rto_category + '_fixed']\n",
    "    rto_additional = courier_company_rates.at[0, rto_category + '_additional']\n",
    "\n",
    "    weight_slab = row['Weight Slab As Per ABC']\n",
    "\n",
    "    if row['Type of Shipment'] == 'Forward charges':\n",
    "        additional_weight = max(0, (weight_slab - 0.5) / 0.5)\n",
    "        total_expected_charge.append(fwd_fixed + additional_weight * fwd_additional)\n",
    "    elif row['Type of Shipment'] == 'Forward and RTO charges':\n",
    "        additional_weight = max(0, (weight_slab - 0.5) / 0.5)\n",
    "        total_expected_charge.append(fwd_fixed + additional_weight * (fwd_additional + rto_additional))\n",
    "    else:\n",
    "        total_expected_charge.append(0)"
   ]
  },
  {
   "cell_type": "code",
   "execution_count": 104,
   "metadata": {},
   "outputs": [],
   "source": [
    "merged2['Expected Charge as per ABC'] = total_expected_charge"
   ]
  },
  {
   "cell_type": "code",
   "execution_count": 105,
   "metadata": {},
   "outputs": [
    {
     "data": {
      "text/html": [
       "<div>\n",
       "<style scoped>\n",
       "    .dataframe tbody tr th:only-of-type {\n",
       "        vertical-align: middle;\n",
       "    }\n",
       "\n",
       "    .dataframe tbody tr th {\n",
       "        vertical-align: top;\n",
       "    }\n",
       "\n",
       "    .dataframe thead th {\n",
       "        text-align: right;\n",
       "    }\n",
       "</style>\n",
       "<table border=\"1\" class=\"dataframe\">\n",
       "  <thead>\n",
       "    <tr style=\"text-align: right;\">\n",
       "      <th></th>\n",
       "      <th>Order ID</th>\n",
       "      <th>SKU</th>\n",
       "      <th>Order Qty</th>\n",
       "      <th>Weight (g)</th>\n",
       "      <th>Customer Pincode</th>\n",
       "      <th>Type of Shipment</th>\n",
       "      <th>Warehouse Pincode</th>\n",
       "      <th>Delivery Zone As Per ABC</th>\n",
       "      <th>Weights (Kgs)</th>\n",
       "      <th>Weight (Kgs)</th>\n",
       "      <th>Weight Slab As Per ABC</th>\n",
       "      <th>Expected Charge as per ABC</th>\n",
       "    </tr>\n",
       "  </thead>\n",
       "  <tbody>\n",
       "    <tr>\n",
       "      <th>0</th>\n",
       "      <td>2001827036</td>\n",
       "      <td>8904223818706</td>\n",
       "      <td>1.0</td>\n",
       "      <td>127</td>\n",
       "      <td>173213</td>\n",
       "      <td>Forward charges</td>\n",
       "      <td>121003</td>\n",
       "      <td>e</td>\n",
       "      <td>0.127</td>\n",
       "      <td>0.5</td>\n",
       "      <td>0.5</td>\n",
       "      <td>56.6</td>\n",
       "    </tr>\n",
       "    <tr>\n",
       "      <th>1</th>\n",
       "      <td>2001827036</td>\n",
       "      <td>8904223819093</td>\n",
       "      <td>1.0</td>\n",
       "      <td>150</td>\n",
       "      <td>173213</td>\n",
       "      <td>Forward charges</td>\n",
       "      <td>121003</td>\n",
       "      <td>e</td>\n",
       "      <td>0.150</td>\n",
       "      <td>0.5</td>\n",
       "      <td>0.5</td>\n",
       "      <td>56.6</td>\n",
       "    </tr>\n",
       "    <tr>\n",
       "      <th>2</th>\n",
       "      <td>2001827036</td>\n",
       "      <td>8904223819109</td>\n",
       "      <td>1.0</td>\n",
       "      <td>100</td>\n",
       "      <td>173213</td>\n",
       "      <td>Forward charges</td>\n",
       "      <td>121003</td>\n",
       "      <td>e</td>\n",
       "      <td>0.100</td>\n",
       "      <td>0.5</td>\n",
       "      <td>0.5</td>\n",
       "      <td>56.6</td>\n",
       "    </tr>\n",
       "    <tr>\n",
       "      <th>3</th>\n",
       "      <td>2001827036</td>\n",
       "      <td>8904223818430</td>\n",
       "      <td>1.0</td>\n",
       "      <td>165</td>\n",
       "      <td>173213</td>\n",
       "      <td>Forward charges</td>\n",
       "      <td>121003</td>\n",
       "      <td>e</td>\n",
       "      <td>0.165</td>\n",
       "      <td>0.5</td>\n",
       "      <td>0.5</td>\n",
       "      <td>56.6</td>\n",
       "    </tr>\n",
       "    <tr>\n",
       "      <th>4</th>\n",
       "      <td>2001827036</td>\n",
       "      <td>8904223819277</td>\n",
       "      <td>1.0</td>\n",
       "      <td>350</td>\n",
       "      <td>173213</td>\n",
       "      <td>Forward charges</td>\n",
       "      <td>121003</td>\n",
       "      <td>e</td>\n",
       "      <td>0.350</td>\n",
       "      <td>0.5</td>\n",
       "      <td>0.5</td>\n",
       "      <td>56.6</td>\n",
       "    </tr>\n",
       "    <tr>\n",
       "      <th>...</th>\n",
       "      <td>...</td>\n",
       "      <td>...</td>\n",
       "      <td>...</td>\n",
       "      <td>...</td>\n",
       "      <td>...</td>\n",
       "      <td>...</td>\n",
       "      <td>...</td>\n",
       "      <td>...</td>\n",
       "      <td>...</td>\n",
       "      <td>...</td>\n",
       "      <td>...</td>\n",
       "      <td>...</td>\n",
       "    </tr>\n",
       "    <tr>\n",
       "      <th>396</th>\n",
       "      <td>2001806251</td>\n",
       "      <td>8904223819161</td>\n",
       "      <td>1.0</td>\n",
       "      <td>115</td>\n",
       "      <td>743263</td>\n",
       "      <td>Forward charges</td>\n",
       "      <td>121003</td>\n",
       "      <td>d</td>\n",
       "      <td>0.115</td>\n",
       "      <td>0.5</td>\n",
       "      <td>0.5</td>\n",
       "      <td>45.4</td>\n",
       "    </tr>\n",
       "    <tr>\n",
       "      <th>397</th>\n",
       "      <td>2001806251</td>\n",
       "      <td>8904223819260</td>\n",
       "      <td>1.0</td>\n",
       "      <td>130</td>\n",
       "      <td>743263</td>\n",
       "      <td>Forward charges</td>\n",
       "      <td>121003</td>\n",
       "      <td>d</td>\n",
       "      <td>0.130</td>\n",
       "      <td>0.5</td>\n",
       "      <td>0.5</td>\n",
       "      <td>45.4</td>\n",
       "    </tr>\n",
       "    <tr>\n",
       "      <th>398</th>\n",
       "      <td>2001806233</td>\n",
       "      <td>8904223819161</td>\n",
       "      <td>1.0</td>\n",
       "      <td>115</td>\n",
       "      <td>263139</td>\n",
       "      <td>Forward charges</td>\n",
       "      <td>121003</td>\n",
       "      <td>b</td>\n",
       "      <td>0.115</td>\n",
       "      <td>0.5</td>\n",
       "      <td>0.5</td>\n",
       "      <td>33.0</td>\n",
       "    </tr>\n",
       "    <tr>\n",
       "      <th>399</th>\n",
       "      <td>2001806233</td>\n",
       "      <td>8904223819260</td>\n",
       "      <td>1.0</td>\n",
       "      <td>130</td>\n",
       "      <td>263139</td>\n",
       "      <td>Forward charges</td>\n",
       "      <td>121003</td>\n",
       "      <td>b</td>\n",
       "      <td>0.130</td>\n",
       "      <td>0.5</td>\n",
       "      <td>0.5</td>\n",
       "      <td>33.0</td>\n",
       "    </tr>\n",
       "    <tr>\n",
       "      <th>400</th>\n",
       "      <td>2001807328</td>\n",
       "      <td>8904223818997</td>\n",
       "      <td>1.0</td>\n",
       "      <td>490</td>\n",
       "      <td>335502</td>\n",
       "      <td>Forward charges</td>\n",
       "      <td>121003</td>\n",
       "      <td>b</td>\n",
       "      <td>0.490</td>\n",
       "      <td>0.5</td>\n",
       "      <td>0.5</td>\n",
       "      <td>33.0</td>\n",
       "    </tr>\n",
       "  </tbody>\n",
       "</table>\n",
       "<p>401 rows × 12 columns</p>\n",
       "</div>"
      ],
      "text/plain": [
       "       Order ID            SKU  Order Qty  Weight (g)  Customer Pincode  \\\n",
       "0    2001827036  8904223818706        1.0         127            173213   \n",
       "1    2001827036  8904223819093        1.0         150            173213   \n",
       "2    2001827036  8904223819109        1.0         100            173213   \n",
       "3    2001827036  8904223818430        1.0         165            173213   \n",
       "4    2001827036  8904223819277        1.0         350            173213   \n",
       "..          ...            ...        ...         ...               ...   \n",
       "396  2001806251  8904223819161        1.0         115            743263   \n",
       "397  2001806251  8904223819260        1.0         130            743263   \n",
       "398  2001806233  8904223819161        1.0         115            263139   \n",
       "399  2001806233  8904223819260        1.0         130            263139   \n",
       "400  2001807328  8904223818997        1.0         490            335502   \n",
       "\n",
       "    Type of Shipment  Warehouse Pincode Delivery Zone As Per ABC  \\\n",
       "0    Forward charges             121003                        e   \n",
       "1    Forward charges             121003                        e   \n",
       "2    Forward charges             121003                        e   \n",
       "3    Forward charges             121003                        e   \n",
       "4    Forward charges             121003                        e   \n",
       "..               ...                ...                      ...   \n",
       "396  Forward charges             121003                        d   \n",
       "397  Forward charges             121003                        d   \n",
       "398  Forward charges             121003                        b   \n",
       "399  Forward charges             121003                        b   \n",
       "400  Forward charges             121003                        b   \n",
       "\n",
       "     Weights (Kgs)  Weight (Kgs)  Weight Slab As Per ABC  \\\n",
       "0            0.127           0.5                     0.5   \n",
       "1            0.150           0.5                     0.5   \n",
       "2            0.100           0.5                     0.5   \n",
       "3            0.165           0.5                     0.5   \n",
       "4            0.350           0.5                     0.5   \n",
       "..             ...           ...                     ...   \n",
       "396          0.115           0.5                     0.5   \n",
       "397          0.130           0.5                     0.5   \n",
       "398          0.115           0.5                     0.5   \n",
       "399          0.130           0.5                     0.5   \n",
       "400          0.490           0.5                     0.5   \n",
       "\n",
       "     Expected Charge as per ABC  \n",
       "0                          56.6  \n",
       "1                          56.6  \n",
       "2                          56.6  \n",
       "3                          56.6  \n",
       "4                          56.6  \n",
       "..                          ...  \n",
       "396                        45.4  \n",
       "397                        45.4  \n",
       "398                        33.0  \n",
       "399                        33.0  \n",
       "400                        33.0  \n",
       "\n",
       "[401 rows x 12 columns]"
      ]
     },
     "execution_count": 105,
     "metadata": {},
     "output_type": "execute_result"
    }
   ],
   "source": [
    "merged2"
   ]
  },
  {
   "cell_type": "code",
   "execution_count": 107,
   "metadata": {},
   "outputs": [
    {
     "data": {
      "text/html": [
       "<div>\n",
       "<style scoped>\n",
       "    .dataframe tbody tr th:only-of-type {\n",
       "        vertical-align: middle;\n",
       "    }\n",
       "\n",
       "    .dataframe tbody tr th {\n",
       "        vertical-align: top;\n",
       "    }\n",
       "\n",
       "    .dataframe thead th {\n",
       "        text-align: right;\n",
       "    }\n",
       "</style>\n",
       "<table border=\"1\" class=\"dataframe\">\n",
       "  <thead>\n",
       "    <tr style=\"text-align: right;\">\n",
       "      <th></th>\n",
       "      <th>Order ID</th>\n",
       "      <th>SKU</th>\n",
       "      <th>Order Qty</th>\n",
       "      <th>Weight (g)</th>\n",
       "      <th>Customer Pincode_x</th>\n",
       "      <th>Type of Shipment_x</th>\n",
       "      <th>Warehouse Pincode_x</th>\n",
       "      <th>Delivery Zone As Per ABC</th>\n",
       "      <th>Weights (Kgs)</th>\n",
       "      <th>Weight (Kgs)</th>\n",
       "      <th>Weight Slab As Per ABC</th>\n",
       "      <th>Expected Charge as per ABC</th>\n",
       "      <th>AWB Code</th>\n",
       "      <th>Charged Weight</th>\n",
       "      <th>Warehouse Pincode_y</th>\n",
       "      <th>Customer Pincode_y</th>\n",
       "      <th>Delivery Zone Charged by Courier Company</th>\n",
       "      <th>Type of Shipment_y</th>\n",
       "      <th>Billing Amount (Rs.)</th>\n",
       "      <th>Weight Slab Charged by Courier Company</th>\n",
       "    </tr>\n",
       "  </thead>\n",
       "  <tbody>\n",
       "    <tr>\n",
       "      <th>0</th>\n",
       "      <td>2001827036</td>\n",
       "      <td>8904223818706</td>\n",
       "      <td>1.0</td>\n",
       "      <td>127</td>\n",
       "      <td>173213</td>\n",
       "      <td>Forward charges</td>\n",
       "      <td>121003</td>\n",
       "      <td>e</td>\n",
       "      <td>0.127</td>\n",
       "      <td>0.5</td>\n",
       "      <td>0.5</td>\n",
       "      <td>56.6</td>\n",
       "      <td>1091122418320</td>\n",
       "      <td>1.60</td>\n",
       "      <td>121003</td>\n",
       "      <td>173213</td>\n",
       "      <td>b</td>\n",
       "      <td>Forward charges</td>\n",
       "      <td>117.9</td>\n",
       "      <td>2.0</td>\n",
       "    </tr>\n",
       "    <tr>\n",
       "      <th>1</th>\n",
       "      <td>2001827036</td>\n",
       "      <td>8904223819093</td>\n",
       "      <td>1.0</td>\n",
       "      <td>150</td>\n",
       "      <td>173213</td>\n",
       "      <td>Forward charges</td>\n",
       "      <td>121003</td>\n",
       "      <td>e</td>\n",
       "      <td>0.150</td>\n",
       "      <td>0.5</td>\n",
       "      <td>0.5</td>\n",
       "      <td>56.6</td>\n",
       "      <td>1091122418320</td>\n",
       "      <td>1.60</td>\n",
       "      <td>121003</td>\n",
       "      <td>173213</td>\n",
       "      <td>b</td>\n",
       "      <td>Forward charges</td>\n",
       "      <td>117.9</td>\n",
       "      <td>2.0</td>\n",
       "    </tr>\n",
       "    <tr>\n",
       "      <th>2</th>\n",
       "      <td>2001827036</td>\n",
       "      <td>8904223819109</td>\n",
       "      <td>1.0</td>\n",
       "      <td>100</td>\n",
       "      <td>173213</td>\n",
       "      <td>Forward charges</td>\n",
       "      <td>121003</td>\n",
       "      <td>e</td>\n",
       "      <td>0.100</td>\n",
       "      <td>0.5</td>\n",
       "      <td>0.5</td>\n",
       "      <td>56.6</td>\n",
       "      <td>1091122418320</td>\n",
       "      <td>1.60</td>\n",
       "      <td>121003</td>\n",
       "      <td>173213</td>\n",
       "      <td>b</td>\n",
       "      <td>Forward charges</td>\n",
       "      <td>117.9</td>\n",
       "      <td>2.0</td>\n",
       "    </tr>\n",
       "    <tr>\n",
       "      <th>3</th>\n",
       "      <td>2001827036</td>\n",
       "      <td>8904223818430</td>\n",
       "      <td>1.0</td>\n",
       "      <td>165</td>\n",
       "      <td>173213</td>\n",
       "      <td>Forward charges</td>\n",
       "      <td>121003</td>\n",
       "      <td>e</td>\n",
       "      <td>0.165</td>\n",
       "      <td>0.5</td>\n",
       "      <td>0.5</td>\n",
       "      <td>56.6</td>\n",
       "      <td>1091122418320</td>\n",
       "      <td>1.60</td>\n",
       "      <td>121003</td>\n",
       "      <td>173213</td>\n",
       "      <td>b</td>\n",
       "      <td>Forward charges</td>\n",
       "      <td>117.9</td>\n",
       "      <td>2.0</td>\n",
       "    </tr>\n",
       "    <tr>\n",
       "      <th>4</th>\n",
       "      <td>2001827036</td>\n",
       "      <td>8904223819277</td>\n",
       "      <td>1.0</td>\n",
       "      <td>350</td>\n",
       "      <td>173213</td>\n",
       "      <td>Forward charges</td>\n",
       "      <td>121003</td>\n",
       "      <td>e</td>\n",
       "      <td>0.350</td>\n",
       "      <td>0.5</td>\n",
       "      <td>0.5</td>\n",
       "      <td>56.6</td>\n",
       "      <td>1091122418320</td>\n",
       "      <td>1.60</td>\n",
       "      <td>121003</td>\n",
       "      <td>173213</td>\n",
       "      <td>b</td>\n",
       "      <td>Forward charges</td>\n",
       "      <td>117.9</td>\n",
       "      <td>2.0</td>\n",
       "    </tr>\n",
       "    <tr>\n",
       "      <th>...</th>\n",
       "      <td>...</td>\n",
       "      <td>...</td>\n",
       "      <td>...</td>\n",
       "      <td>...</td>\n",
       "      <td>...</td>\n",
       "      <td>...</td>\n",
       "      <td>...</td>\n",
       "      <td>...</td>\n",
       "      <td>...</td>\n",
       "      <td>...</td>\n",
       "      <td>...</td>\n",
       "      <td>...</td>\n",
       "      <td>...</td>\n",
       "      <td>...</td>\n",
       "      <td>...</td>\n",
       "      <td>...</td>\n",
       "      <td>...</td>\n",
       "      <td>...</td>\n",
       "      <td>...</td>\n",
       "      <td>...</td>\n",
       "    </tr>\n",
       "    <tr>\n",
       "      <th>396</th>\n",
       "      <td>2001806251</td>\n",
       "      <td>8904223819161</td>\n",
       "      <td>1.0</td>\n",
       "      <td>115</td>\n",
       "      <td>743263</td>\n",
       "      <td>Forward charges</td>\n",
       "      <td>121003</td>\n",
       "      <td>d</td>\n",
       "      <td>0.115</td>\n",
       "      <td>0.5</td>\n",
       "      <td>0.5</td>\n",
       "      <td>45.4</td>\n",
       "      <td>1091117222146</td>\n",
       "      <td>1.27</td>\n",
       "      <td>121003</td>\n",
       "      <td>743263</td>\n",
       "      <td>d</td>\n",
       "      <td>Forward charges</td>\n",
       "      <td>135.0</td>\n",
       "      <td>1.5</td>\n",
       "    </tr>\n",
       "    <tr>\n",
       "      <th>397</th>\n",
       "      <td>2001806251</td>\n",
       "      <td>8904223819260</td>\n",
       "      <td>1.0</td>\n",
       "      <td>130</td>\n",
       "      <td>743263</td>\n",
       "      <td>Forward charges</td>\n",
       "      <td>121003</td>\n",
       "      <td>d</td>\n",
       "      <td>0.130</td>\n",
       "      <td>0.5</td>\n",
       "      <td>0.5</td>\n",
       "      <td>45.4</td>\n",
       "      <td>1091117222146</td>\n",
       "      <td>1.27</td>\n",
       "      <td>121003</td>\n",
       "      <td>743263</td>\n",
       "      <td>d</td>\n",
       "      <td>Forward charges</td>\n",
       "      <td>135.0</td>\n",
       "      <td>1.5</td>\n",
       "    </tr>\n",
       "    <tr>\n",
       "      <th>398</th>\n",
       "      <td>2001806233</td>\n",
       "      <td>8904223819161</td>\n",
       "      <td>1.0</td>\n",
       "      <td>115</td>\n",
       "      <td>263139</td>\n",
       "      <td>Forward charges</td>\n",
       "      <td>121003</td>\n",
       "      <td>b</td>\n",
       "      <td>0.115</td>\n",
       "      <td>0.5</td>\n",
       "      <td>0.5</td>\n",
       "      <td>33.0</td>\n",
       "      <td>1091117222135</td>\n",
       "      <td>0.78</td>\n",
       "      <td>121003</td>\n",
       "      <td>263139</td>\n",
       "      <td>b</td>\n",
       "      <td>Forward charges</td>\n",
       "      <td>61.3</td>\n",
       "      <td>1.0</td>\n",
       "    </tr>\n",
       "    <tr>\n",
       "      <th>399</th>\n",
       "      <td>2001806233</td>\n",
       "      <td>8904223819260</td>\n",
       "      <td>1.0</td>\n",
       "      <td>130</td>\n",
       "      <td>263139</td>\n",
       "      <td>Forward charges</td>\n",
       "      <td>121003</td>\n",
       "      <td>b</td>\n",
       "      <td>0.130</td>\n",
       "      <td>0.5</td>\n",
       "      <td>0.5</td>\n",
       "      <td>33.0</td>\n",
       "      <td>1091117222135</td>\n",
       "      <td>0.78</td>\n",
       "      <td>121003</td>\n",
       "      <td>263139</td>\n",
       "      <td>b</td>\n",
       "      <td>Forward charges</td>\n",
       "      <td>61.3</td>\n",
       "      <td>1.0</td>\n",
       "    </tr>\n",
       "    <tr>\n",
       "      <th>400</th>\n",
       "      <td>2001807328</td>\n",
       "      <td>8904223818997</td>\n",
       "      <td>1.0</td>\n",
       "      <td>490</td>\n",
       "      <td>335502</td>\n",
       "      <td>Forward charges</td>\n",
       "      <td>121003</td>\n",
       "      <td>b</td>\n",
       "      <td>0.490</td>\n",
       "      <td>0.5</td>\n",
       "      <td>0.5</td>\n",
       "      <td>33.0</td>\n",
       "      <td>1091117324346</td>\n",
       "      <td>2.28</td>\n",
       "      <td>121003</td>\n",
       "      <td>335502</td>\n",
       "      <td>d</td>\n",
       "      <td>Forward charges</td>\n",
       "      <td>224.6</td>\n",
       "      <td>2.5</td>\n",
       "    </tr>\n",
       "  </tbody>\n",
       "</table>\n",
       "<p>401 rows × 20 columns</p>\n",
       "</div>"
      ],
      "text/plain": [
       "       Order ID            SKU  Order Qty  Weight (g)  Customer Pincode_x  \\\n",
       "0    2001827036  8904223818706        1.0         127              173213   \n",
       "1    2001827036  8904223819093        1.0         150              173213   \n",
       "2    2001827036  8904223819109        1.0         100              173213   \n",
       "3    2001827036  8904223818430        1.0         165              173213   \n",
       "4    2001827036  8904223819277        1.0         350              173213   \n",
       "..          ...            ...        ...         ...                 ...   \n",
       "396  2001806251  8904223819161        1.0         115              743263   \n",
       "397  2001806251  8904223819260        1.0         130              743263   \n",
       "398  2001806233  8904223819161        1.0         115              263139   \n",
       "399  2001806233  8904223819260        1.0         130              263139   \n",
       "400  2001807328  8904223818997        1.0         490              335502   \n",
       "\n",
       "    Type of Shipment_x  Warehouse Pincode_x Delivery Zone As Per ABC  \\\n",
       "0      Forward charges               121003                        e   \n",
       "1      Forward charges               121003                        e   \n",
       "2      Forward charges               121003                        e   \n",
       "3      Forward charges               121003                        e   \n",
       "4      Forward charges               121003                        e   \n",
       "..                 ...                  ...                      ...   \n",
       "396    Forward charges               121003                        d   \n",
       "397    Forward charges               121003                        d   \n",
       "398    Forward charges               121003                        b   \n",
       "399    Forward charges               121003                        b   \n",
       "400    Forward charges               121003                        b   \n",
       "\n",
       "     Weights (Kgs)  Weight (Kgs)  Weight Slab As Per ABC  \\\n",
       "0            0.127           0.5                     0.5   \n",
       "1            0.150           0.5                     0.5   \n",
       "2            0.100           0.5                     0.5   \n",
       "3            0.165           0.5                     0.5   \n",
       "4            0.350           0.5                     0.5   \n",
       "..             ...           ...                     ...   \n",
       "396          0.115           0.5                     0.5   \n",
       "397          0.130           0.5                     0.5   \n",
       "398          0.115           0.5                     0.5   \n",
       "399          0.130           0.5                     0.5   \n",
       "400          0.490           0.5                     0.5   \n",
       "\n",
       "     Expected Charge as per ABC       AWB Code  Charged Weight  \\\n",
       "0                          56.6  1091122418320            1.60   \n",
       "1                          56.6  1091122418320            1.60   \n",
       "2                          56.6  1091122418320            1.60   \n",
       "3                          56.6  1091122418320            1.60   \n",
       "4                          56.6  1091122418320            1.60   \n",
       "..                          ...            ...             ...   \n",
       "396                        45.4  1091117222146            1.27   \n",
       "397                        45.4  1091117222146            1.27   \n",
       "398                        33.0  1091117222135            0.78   \n",
       "399                        33.0  1091117222135            0.78   \n",
       "400                        33.0  1091117324346            2.28   \n",
       "\n",
       "     Warehouse Pincode_y  Customer Pincode_y  \\\n",
       "0                 121003              173213   \n",
       "1                 121003              173213   \n",
       "2                 121003              173213   \n",
       "3                 121003              173213   \n",
       "4                 121003              173213   \n",
       "..                   ...                 ...   \n",
       "396               121003              743263   \n",
       "397               121003              743263   \n",
       "398               121003              263139   \n",
       "399               121003              263139   \n",
       "400               121003              335502   \n",
       "\n",
       "    Delivery Zone Charged by Courier Company Type of Shipment_y  \\\n",
       "0                                          b    Forward charges   \n",
       "1                                          b    Forward charges   \n",
       "2                                          b    Forward charges   \n",
       "3                                          b    Forward charges   \n",
       "4                                          b    Forward charges   \n",
       "..                                       ...                ...   \n",
       "396                                        d    Forward charges   \n",
       "397                                        d    Forward charges   \n",
       "398                                        b    Forward charges   \n",
       "399                                        b    Forward charges   \n",
       "400                                        d    Forward charges   \n",
       "\n",
       "     Billing Amount (Rs.)  Weight Slab Charged by Courier Company  \n",
       "0                   117.9                                     2.0  \n",
       "1                   117.9                                     2.0  \n",
       "2                   117.9                                     2.0  \n",
       "3                   117.9                                     2.0  \n",
       "4                   117.9                                     2.0  \n",
       "..                    ...                                     ...  \n",
       "396                 135.0                                     1.5  \n",
       "397                 135.0                                     1.5  \n",
       "398                  61.3                                     1.0  \n",
       "399                  61.3                                     1.0  \n",
       "400                 224.6                                     2.5  \n",
       "\n",
       "[401 rows x 20 columns]"
      ]
     },
     "execution_count": 107,
     "metadata": {},
     "output_type": "execute_result"
    }
   ],
   "source": [
    "merged_output = merged2.merge(courier_invoice, on='Order ID')\n",
    "merged_output"
   ]
  },
  {
   "cell_type": "code",
   "execution_count": 109,
   "metadata": {},
   "outputs": [],
   "source": [
    "df_diff = merged_output.copy()\n",
    "df_diff['Difference (Rs.)'] = df_diff['Billing Amount (Rs.)'] - df_diff['Expected Charge as per ABC']"
   ]
  },
  {
   "cell_type": "code",
   "execution_count": 110,
   "metadata": {},
   "outputs": [],
   "source": [
    "df_new = df_diff[['Order ID', 'Difference (Rs.)', 'Expected Charge as per ABC']]"
   ]
  },
  {
   "cell_type": "code",
   "execution_count": 111,
   "metadata": {},
   "outputs": [
    {
     "data": {
      "text/html": [
       "<div>\n",
       "<style scoped>\n",
       "    .dataframe tbody tr th:only-of-type {\n",
       "        vertical-align: middle;\n",
       "    }\n",
       "\n",
       "    .dataframe tbody tr th {\n",
       "        vertical-align: top;\n",
       "    }\n",
       "\n",
       "    .dataframe thead th {\n",
       "        text-align: right;\n",
       "    }\n",
       "</style>\n",
       "<table border=\"1\" class=\"dataframe\">\n",
       "  <thead>\n",
       "    <tr style=\"text-align: right;\">\n",
       "      <th></th>\n",
       "      <th>Order ID</th>\n",
       "      <th>Difference (Rs.)</th>\n",
       "      <th>Expected Charge as per ABC</th>\n",
       "    </tr>\n",
       "  </thead>\n",
       "  <tbody>\n",
       "    <tr>\n",
       "      <th>0</th>\n",
       "      <td>2001827036</td>\n",
       "      <td>61.3</td>\n",
       "      <td>56.6</td>\n",
       "    </tr>\n",
       "    <tr>\n",
       "      <th>1</th>\n",
       "      <td>2001827036</td>\n",
       "      <td>61.3</td>\n",
       "      <td>56.6</td>\n",
       "    </tr>\n",
       "    <tr>\n",
       "      <th>2</th>\n",
       "      <td>2001827036</td>\n",
       "      <td>61.3</td>\n",
       "      <td>56.6</td>\n",
       "    </tr>\n",
       "    <tr>\n",
       "      <th>3</th>\n",
       "      <td>2001827036</td>\n",
       "      <td>61.3</td>\n",
       "      <td>56.6</td>\n",
       "    </tr>\n",
       "    <tr>\n",
       "      <th>4</th>\n",
       "      <td>2001827036</td>\n",
       "      <td>61.3</td>\n",
       "      <td>56.6</td>\n",
       "    </tr>\n",
       "    <tr>\n",
       "      <th>...</th>\n",
       "      <td>...</td>\n",
       "      <td>...</td>\n",
       "      <td>...</td>\n",
       "    </tr>\n",
       "    <tr>\n",
       "      <th>396</th>\n",
       "      <td>2001806251</td>\n",
       "      <td>89.6</td>\n",
       "      <td>45.4</td>\n",
       "    </tr>\n",
       "    <tr>\n",
       "      <th>397</th>\n",
       "      <td>2001806251</td>\n",
       "      <td>89.6</td>\n",
       "      <td>45.4</td>\n",
       "    </tr>\n",
       "    <tr>\n",
       "      <th>398</th>\n",
       "      <td>2001806233</td>\n",
       "      <td>28.3</td>\n",
       "      <td>33.0</td>\n",
       "    </tr>\n",
       "    <tr>\n",
       "      <th>399</th>\n",
       "      <td>2001806233</td>\n",
       "      <td>28.3</td>\n",
       "      <td>33.0</td>\n",
       "    </tr>\n",
       "    <tr>\n",
       "      <th>400</th>\n",
       "      <td>2001807328</td>\n",
       "      <td>191.6</td>\n",
       "      <td>33.0</td>\n",
       "    </tr>\n",
       "  </tbody>\n",
       "</table>\n",
       "<p>401 rows × 3 columns</p>\n",
       "</div>"
      ],
      "text/plain": [
       "       Order ID  Difference (Rs.)  Expected Charge as per ABC\n",
       "0    2001827036              61.3                        56.6\n",
       "1    2001827036              61.3                        56.6\n",
       "2    2001827036              61.3                        56.6\n",
       "3    2001827036              61.3                        56.6\n",
       "4    2001827036              61.3                        56.6\n",
       "..          ...               ...                         ...\n",
       "396  2001806251              89.6                        45.4\n",
       "397  2001806251              89.6                        45.4\n",
       "398  2001806233              28.3                        33.0\n",
       "399  2001806233              28.3                        33.0\n",
       "400  2001807328             191.6                        33.0\n",
       "\n",
       "[401 rows x 3 columns]"
      ]
     },
     "execution_count": 111,
     "metadata": {},
     "output_type": "execute_result"
    }
   ],
   "source": [
    "df_new"
   ]
  },
  {
   "cell_type": "code",
   "execution_count": 112,
   "metadata": {},
   "outputs": [],
   "source": [
    "# Calculate the total orders in each category\n",
    "total_correctly_charged = len(df_new[df_new['Difference (Rs.)'] == 0])\n",
    "total_overcharged = len(df_new[df_new['Difference (Rs.)'] > 0])\n",
    "total_undercharged = len(df_new[df_new['Difference (Rs.)'] < 0])"
   ]
  },
  {
   "cell_type": "code",
   "execution_count": 113,
   "metadata": {},
   "outputs": [],
   "source": [
    "# Calculate the total amount in each category\n",
    "amount_overcharged = abs(df_new[df_new['Difference (Rs.)'] > 0]['Difference (Rs.)'].sum())\n",
    "amount_undercharged = df_new[df_new['Difference (Rs.)'] < 0]['Difference (Rs.)'].sum()\n",
    "amount_correctly_charged = df_new[df_new['Difference (Rs.)'] == 0]['Expected Charge as per ABC'].sum()"
   ]
  },
  {
   "cell_type": "code",
   "execution_count": 114,
   "metadata": {},
   "outputs": [
    {
     "name": "stdout",
     "output_type": "stream",
     "text": [
      "                                         Description  Count  Amount (Rs.)\n",
      "0  Total Orders where ABC has been correctly charged     12         507.6\n",
      "1        Total Orders where ABC has been overcharged    382       33750.5\n",
      "2       Total Orders where ABC has been undercharged      7        -165.2\n"
     ]
    }
   ],
   "source": [
    "# Create a new DataFrame for the summary\n",
    "summary_data = {'Description': ['Total Orders where ABC has been correctly charged',\n",
    "                                'Total Orders where ABC has been overcharged',\n",
    "                                'Total Orders where ABC has been undercharged'],\n",
    "                'Count': [total_correctly_charged, total_overcharged, total_undercharged],\n",
    "                'Amount (Rs.)': [amount_correctly_charged, amount_overcharged, amount_undercharged]}\n",
    "\n",
    "df_summary = pd.DataFrame(summary_data)\n",
    "\n",
    "print(df_summary)"
   ]
  },
  {
   "cell_type": "code",
   "execution_count": 115,
   "metadata": {},
   "outputs": [
    {
     "data": {
      "application/vnd.plotly.v1+json": {
       "config": {
        "plotlyServerURL": "https://plotly.com"
       },
       "data": [
        {
         "hole": 0.4,
         "labels": [
          "Total Orders where ABC has been correctly charged",
          "Total Orders where ABC has been overcharged",
          "Total Orders where ABC has been undercharged"
         ],
         "textinfo": "label+percent",
         "type": "pie",
         "values": [
          12,
          382,
          7
         ]
        }
       ],
       "layout": {
        "template": {
         "data": {
          "bar": [
           {
            "error_x": {
             "color": "#2a3f5f"
            },
            "error_y": {
             "color": "#2a3f5f"
            },
            "marker": {
             "line": {
              "color": "#E5ECF6",
              "width": 0.5
             },
             "pattern": {
              "fillmode": "overlay",
              "size": 10,
              "solidity": 0.2
             }
            },
            "type": "bar"
           }
          ],
          "barpolar": [
           {
            "marker": {
             "line": {
              "color": "#E5ECF6",
              "width": 0.5
             },
             "pattern": {
              "fillmode": "overlay",
              "size": 10,
              "solidity": 0.2
             }
            },
            "type": "barpolar"
           }
          ],
          "carpet": [
           {
            "aaxis": {
             "endlinecolor": "#2a3f5f",
             "gridcolor": "white",
             "linecolor": "white",
             "minorgridcolor": "white",
             "startlinecolor": "#2a3f5f"
            },
            "baxis": {
             "endlinecolor": "#2a3f5f",
             "gridcolor": "white",
             "linecolor": "white",
             "minorgridcolor": "white",
             "startlinecolor": "#2a3f5f"
            },
            "type": "carpet"
           }
          ],
          "choropleth": [
           {
            "colorbar": {
             "outlinewidth": 0,
             "ticks": ""
            },
            "type": "choropleth"
           }
          ],
          "contour": [
           {
            "colorbar": {
             "outlinewidth": 0,
             "ticks": ""
            },
            "colorscale": [
             [
              0,
              "#0d0887"
             ],
             [
              0.1111111111111111,
              "#46039f"
             ],
             [
              0.2222222222222222,
              "#7201a8"
             ],
             [
              0.3333333333333333,
              "#9c179e"
             ],
             [
              0.4444444444444444,
              "#bd3786"
             ],
             [
              0.5555555555555556,
              "#d8576b"
             ],
             [
              0.6666666666666666,
              "#ed7953"
             ],
             [
              0.7777777777777778,
              "#fb9f3a"
             ],
             [
              0.8888888888888888,
              "#fdca26"
             ],
             [
              1,
              "#f0f921"
             ]
            ],
            "type": "contour"
           }
          ],
          "contourcarpet": [
           {
            "colorbar": {
             "outlinewidth": 0,
             "ticks": ""
            },
            "type": "contourcarpet"
           }
          ],
          "heatmap": [
           {
            "colorbar": {
             "outlinewidth": 0,
             "ticks": ""
            },
            "colorscale": [
             [
              0,
              "#0d0887"
             ],
             [
              0.1111111111111111,
              "#46039f"
             ],
             [
              0.2222222222222222,
              "#7201a8"
             ],
             [
              0.3333333333333333,
              "#9c179e"
             ],
             [
              0.4444444444444444,
              "#bd3786"
             ],
             [
              0.5555555555555556,
              "#d8576b"
             ],
             [
              0.6666666666666666,
              "#ed7953"
             ],
             [
              0.7777777777777778,
              "#fb9f3a"
             ],
             [
              0.8888888888888888,
              "#fdca26"
             ],
             [
              1,
              "#f0f921"
             ]
            ],
            "type": "heatmap"
           }
          ],
          "heatmapgl": [
           {
            "colorbar": {
             "outlinewidth": 0,
             "ticks": ""
            },
            "colorscale": [
             [
              0,
              "#0d0887"
             ],
             [
              0.1111111111111111,
              "#46039f"
             ],
             [
              0.2222222222222222,
              "#7201a8"
             ],
             [
              0.3333333333333333,
              "#9c179e"
             ],
             [
              0.4444444444444444,
              "#bd3786"
             ],
             [
              0.5555555555555556,
              "#d8576b"
             ],
             [
              0.6666666666666666,
              "#ed7953"
             ],
             [
              0.7777777777777778,
              "#fb9f3a"
             ],
             [
              0.8888888888888888,
              "#fdca26"
             ],
             [
              1,
              "#f0f921"
             ]
            ],
            "type": "heatmapgl"
           }
          ],
          "histogram": [
           {
            "marker": {
             "pattern": {
              "fillmode": "overlay",
              "size": 10,
              "solidity": 0.2
             }
            },
            "type": "histogram"
           }
          ],
          "histogram2d": [
           {
            "colorbar": {
             "outlinewidth": 0,
             "ticks": ""
            },
            "colorscale": [
             [
              0,
              "#0d0887"
             ],
             [
              0.1111111111111111,
              "#46039f"
             ],
             [
              0.2222222222222222,
              "#7201a8"
             ],
             [
              0.3333333333333333,
              "#9c179e"
             ],
             [
              0.4444444444444444,
              "#bd3786"
             ],
             [
              0.5555555555555556,
              "#d8576b"
             ],
             [
              0.6666666666666666,
              "#ed7953"
             ],
             [
              0.7777777777777778,
              "#fb9f3a"
             ],
             [
              0.8888888888888888,
              "#fdca26"
             ],
             [
              1,
              "#f0f921"
             ]
            ],
            "type": "histogram2d"
           }
          ],
          "histogram2dcontour": [
           {
            "colorbar": {
             "outlinewidth": 0,
             "ticks": ""
            },
            "colorscale": [
             [
              0,
              "#0d0887"
             ],
             [
              0.1111111111111111,
              "#46039f"
             ],
             [
              0.2222222222222222,
              "#7201a8"
             ],
             [
              0.3333333333333333,
              "#9c179e"
             ],
             [
              0.4444444444444444,
              "#bd3786"
             ],
             [
              0.5555555555555556,
              "#d8576b"
             ],
             [
              0.6666666666666666,
              "#ed7953"
             ],
             [
              0.7777777777777778,
              "#fb9f3a"
             ],
             [
              0.8888888888888888,
              "#fdca26"
             ],
             [
              1,
              "#f0f921"
             ]
            ],
            "type": "histogram2dcontour"
           }
          ],
          "mesh3d": [
           {
            "colorbar": {
             "outlinewidth": 0,
             "ticks": ""
            },
            "type": "mesh3d"
           }
          ],
          "parcoords": [
           {
            "line": {
             "colorbar": {
              "outlinewidth": 0,
              "ticks": ""
             }
            },
            "type": "parcoords"
           }
          ],
          "pie": [
           {
            "automargin": true,
            "type": "pie"
           }
          ],
          "scatter": [
           {
            "fillpattern": {
             "fillmode": "overlay",
             "size": 10,
             "solidity": 0.2
            },
            "type": "scatter"
           }
          ],
          "scatter3d": [
           {
            "line": {
             "colorbar": {
              "outlinewidth": 0,
              "ticks": ""
             }
            },
            "marker": {
             "colorbar": {
              "outlinewidth": 0,
              "ticks": ""
             }
            },
            "type": "scatter3d"
           }
          ],
          "scattercarpet": [
           {
            "marker": {
             "colorbar": {
              "outlinewidth": 0,
              "ticks": ""
             }
            },
            "type": "scattercarpet"
           }
          ],
          "scattergeo": [
           {
            "marker": {
             "colorbar": {
              "outlinewidth": 0,
              "ticks": ""
             }
            },
            "type": "scattergeo"
           }
          ],
          "scattergl": [
           {
            "marker": {
             "colorbar": {
              "outlinewidth": 0,
              "ticks": ""
             }
            },
            "type": "scattergl"
           }
          ],
          "scattermapbox": [
           {
            "marker": {
             "colorbar": {
              "outlinewidth": 0,
              "ticks": ""
             }
            },
            "type": "scattermapbox"
           }
          ],
          "scatterpolar": [
           {
            "marker": {
             "colorbar": {
              "outlinewidth": 0,
              "ticks": ""
             }
            },
            "type": "scatterpolar"
           }
          ],
          "scatterpolargl": [
           {
            "marker": {
             "colorbar": {
              "outlinewidth": 0,
              "ticks": ""
             }
            },
            "type": "scatterpolargl"
           }
          ],
          "scatterternary": [
           {
            "marker": {
             "colorbar": {
              "outlinewidth": 0,
              "ticks": ""
             }
            },
            "type": "scatterternary"
           }
          ],
          "surface": [
           {
            "colorbar": {
             "outlinewidth": 0,
             "ticks": ""
            },
            "colorscale": [
             [
              0,
              "#0d0887"
             ],
             [
              0.1111111111111111,
              "#46039f"
             ],
             [
              0.2222222222222222,
              "#7201a8"
             ],
             [
              0.3333333333333333,
              "#9c179e"
             ],
             [
              0.4444444444444444,
              "#bd3786"
             ],
             [
              0.5555555555555556,
              "#d8576b"
             ],
             [
              0.6666666666666666,
              "#ed7953"
             ],
             [
              0.7777777777777778,
              "#fb9f3a"
             ],
             [
              0.8888888888888888,
              "#fdca26"
             ],
             [
              1,
              "#f0f921"
             ]
            ],
            "type": "surface"
           }
          ],
          "table": [
           {
            "cells": {
             "fill": {
              "color": "#EBF0F8"
             },
             "line": {
              "color": "white"
             }
            },
            "header": {
             "fill": {
              "color": "#C8D4E3"
             },
             "line": {
              "color": "white"
             }
            },
            "type": "table"
           }
          ]
         },
         "layout": {
          "annotationdefaults": {
           "arrowcolor": "#2a3f5f",
           "arrowhead": 0,
           "arrowwidth": 1
          },
          "autotypenumbers": "strict",
          "coloraxis": {
           "colorbar": {
            "outlinewidth": 0,
            "ticks": ""
           }
          },
          "colorscale": {
           "diverging": [
            [
             0,
             "#8e0152"
            ],
            [
             0.1,
             "#c51b7d"
            ],
            [
             0.2,
             "#de77ae"
            ],
            [
             0.3,
             "#f1b6da"
            ],
            [
             0.4,
             "#fde0ef"
            ],
            [
             0.5,
             "#f7f7f7"
            ],
            [
             0.6,
             "#e6f5d0"
            ],
            [
             0.7,
             "#b8e186"
            ],
            [
             0.8,
             "#7fbc41"
            ],
            [
             0.9,
             "#4d9221"
            ],
            [
             1,
             "#276419"
            ]
           ],
           "sequential": [
            [
             0,
             "#0d0887"
            ],
            [
             0.1111111111111111,
             "#46039f"
            ],
            [
             0.2222222222222222,
             "#7201a8"
            ],
            [
             0.3333333333333333,
             "#9c179e"
            ],
            [
             0.4444444444444444,
             "#bd3786"
            ],
            [
             0.5555555555555556,
             "#d8576b"
            ],
            [
             0.6666666666666666,
             "#ed7953"
            ],
            [
             0.7777777777777778,
             "#fb9f3a"
            ],
            [
             0.8888888888888888,
             "#fdca26"
            ],
            [
             1,
             "#f0f921"
            ]
           ],
           "sequentialminus": [
            [
             0,
             "#0d0887"
            ],
            [
             0.1111111111111111,
             "#46039f"
            ],
            [
             0.2222222222222222,
             "#7201a8"
            ],
            [
             0.3333333333333333,
             "#9c179e"
            ],
            [
             0.4444444444444444,
             "#bd3786"
            ],
            [
             0.5555555555555556,
             "#d8576b"
            ],
            [
             0.6666666666666666,
             "#ed7953"
            ],
            [
             0.7777777777777778,
             "#fb9f3a"
            ],
            [
             0.8888888888888888,
             "#fdca26"
            ],
            [
             1,
             "#f0f921"
            ]
           ]
          },
          "colorway": [
           "#636efa",
           "#EF553B",
           "#00cc96",
           "#ab63fa",
           "#FFA15A",
           "#19d3f3",
           "#FF6692",
           "#B6E880",
           "#FF97FF",
           "#FECB52"
          ],
          "font": {
           "color": "#2a3f5f"
          },
          "geo": {
           "bgcolor": "white",
           "lakecolor": "white",
           "landcolor": "#E5ECF6",
           "showlakes": true,
           "showland": true,
           "subunitcolor": "white"
          },
          "hoverlabel": {
           "align": "left"
          },
          "hovermode": "closest",
          "mapbox": {
           "style": "light"
          },
          "paper_bgcolor": "white",
          "plot_bgcolor": "#E5ECF6",
          "polar": {
           "angularaxis": {
            "gridcolor": "white",
            "linecolor": "white",
            "ticks": ""
           },
           "bgcolor": "#E5ECF6",
           "radialaxis": {
            "gridcolor": "white",
            "linecolor": "white",
            "ticks": ""
           }
          },
          "scene": {
           "xaxis": {
            "backgroundcolor": "#E5ECF6",
            "gridcolor": "white",
            "gridwidth": 2,
            "linecolor": "white",
            "showbackground": true,
            "ticks": "",
            "zerolinecolor": "white"
           },
           "yaxis": {
            "backgroundcolor": "#E5ECF6",
            "gridcolor": "white",
            "gridwidth": 2,
            "linecolor": "white",
            "showbackground": true,
            "ticks": "",
            "zerolinecolor": "white"
           },
           "zaxis": {
            "backgroundcolor": "#E5ECF6",
            "gridcolor": "white",
            "gridwidth": 2,
            "linecolor": "white",
            "showbackground": true,
            "ticks": "",
            "zerolinecolor": "white"
           }
          },
          "shapedefaults": {
           "line": {
            "color": "#2a3f5f"
           }
          },
          "ternary": {
           "aaxis": {
            "gridcolor": "white",
            "linecolor": "white",
            "ticks": ""
           },
           "baxis": {
            "gridcolor": "white",
            "linecolor": "white",
            "ticks": ""
           },
           "bgcolor": "#E5ECF6",
           "caxis": {
            "gridcolor": "white",
            "linecolor": "white",
            "ticks": ""
           }
          },
          "title": {
           "x": 0.05
          },
          "xaxis": {
           "automargin": true,
           "gridcolor": "white",
           "linecolor": "white",
           "ticks": "",
           "title": {
            "standoff": 15
           },
           "zerolinecolor": "white",
           "zerolinewidth": 2
          },
          "yaxis": {
           "automargin": true,
           "gridcolor": "white",
           "linecolor": "white",
           "ticks": "",
           "title": {
            "standoff": 15
           },
           "zerolinecolor": "white",
           "zerolinewidth": 2
          }
         }
        },
        "title": {
         "text": "Proportion"
        }
       }
      }
     },
     "metadata": {},
     "output_type": "display_data"
    }
   ],
   "source": [
    "import plotly.graph_objects as go\n",
    "fig = go.Figure(data=go.Pie(labels=df_summary['Description'],\n",
    "                            values=df_summary['Count'],\n",
    "                            textinfo='label+percent',\n",
    "                            hole=0.4))\n",
    "fig.update_layout(title='Proportion')\n",
    "\n",
    "fig.show()"
   ]
  }
 ],
 "metadata": {
  "kernelspec": {
   "display_name": "base",
   "language": "python",
   "name": "python3"
  },
  "language_info": {
   "codemirror_mode": {
    "name": "ipython",
    "version": 3
   },
   "file_extension": ".py",
   "mimetype": "text/x-python",
   "name": "python",
   "nbconvert_exporter": "python",
   "pygments_lexer": "ipython3",
   "version": "3.10.12"
  },
  "orig_nbformat": 4
 },
 "nbformat": 4,
 "nbformat_minor": 2
}
